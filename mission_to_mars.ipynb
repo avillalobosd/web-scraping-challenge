{
 "cells": [
  {
   "cell_type": "code",
   "execution_count": 1,
   "metadata": {},
   "outputs": [],
   "source": [
    "from splinter import Browser\n",
    "from bs4 import BeautifulSoup\n",
    "import re\n",
    "import time\n",
    "import requests"
   ]
  },
  {
   "cell_type": "code",
   "execution_count": 2,
   "metadata": {},
   "outputs": [],
   "source": [
    "executable_path = {'executable_path': 'D:\\ChromeDriver/chromedriver'}\n",
    "brow = Browser('chrome', **executable_path)"
   ]
  },
  {
   "cell_type": "code",
   "execution_count": 3,
   "metadata": {},
   "outputs": [],
   "source": [
    "mars_url=\"https://mars.nasa.gov/news/\"\n",
    "brow.visit(mars_url)\n",
    "time.sleep(2)\n",
    "mars_html=brow.html\n",
    "mars_news= BeautifulSoup(mars_html, 'html.parser')\n"
   ]
  },
  {
   "cell_type": "code",
   "execution_count": 4,
   "metadata": {},
   "outputs": [
    {
     "name": "stdout",
     "output_type": "stream",
     "text": [
      "NASA's Mars Rover Drivers Need Your Help\n"
     ]
    }
   ],
   "source": [
    "title = mars_news.select_one('ul.item_list')\n",
    "news_title=title.find(\"div\", class_='content_title').text\n",
    "print(news_title)"
   ]
  },
  {
   "cell_type": "code",
   "execution_count": 5,
   "metadata": {},
   "outputs": [
    {
     "name": "stdout",
     "output_type": "stream",
     "text": [
      "Using an online tool to label Martian terrain types, you can train an artificial intelligence algorithm that could improve the way engineers guide the Curiosity rover.\n"
     ]
    }
   ],
   "source": [
    "content = mars_news.select_one('li.slide')\n",
    "news_p=content.find(\"div\", class_='article_teaser_body').text\n",
    "print(news_p)"
   ]
  },
  {
   "cell_type": "code",
   "execution_count": 6,
   "metadata": {},
   "outputs": [
    {
     "name": "stderr",
     "output_type": "stream",
     "text": [
      "C:\\Users\\lalov\\Anaconda3\\lib\\site-packages\\splinter\\driver\\webdriver\\__init__.py:528: FutureWarning: browser.find_link_by_partial_text is deprecated. Use browser.links.find_by_partial_text instead.\n",
      "  FutureWarning,\n"
     ]
    }
   ],
   "source": [
    "jpl_url=\"https://www.jpl.nasa.gov/spaceimages/?search=&category=Mars\"\n",
    "brow.visit(jpl_url)\n",
    "boton = brow.find_by_id('full_image')\n",
    "boton.click()\n",
    "time.sleep(2)\n",
    "moreInfo=brow.find_link_by_partial_text('more info')\n",
    "moreInfo.click()\n"
   ]
  },
  {
   "cell_type": "code",
   "execution_count": 7,
   "metadata": {},
   "outputs": [
    {
     "name": "stdout",
     "output_type": "stream",
     "text": [
      "https://www.jpl.nasa.gov/spaceimages/images/largesize/PIA17470_hires.jpg\n"
     ]
    }
   ],
   "source": [
    "parse=brow.html\n",
    "parseSoup = BeautifulSoup(parse, 'html.parser')\n",
    "imagen=parseSoup.select_one('figure')\n",
    "imagen2=imagen.select_one('img')\n",
    "src=imagen2.get('src')\n",
    "featured_image_url = 'https://www.jpl.nasa.gov'+src\n",
    "print(featured_image_url)\n"
   ]
  },
  {
   "cell_type": "code",
   "execution_count": 12,
   "metadata": {},
   "outputs": [
    {
     "name": "stdout",
     "output_type": "stream",
     "text": [
      "Mars Weather@MarsWxReport·Jun 13InSight sol 549 (2020-06-12) low -91.8ºC (-133.3ºF) high -1.5ºC (29.3ºF)\n",
      "winds from the SW at 4.5 m/s (10.1 mph) gusting to 18.2 m/s (40.6 mph)\n",
      "pressure at 7.40 hPa423\n"
     ]
    }
   ],
   "source": [
    "mars_tweet=\"https://twitter.com/marswxreport?lang=en\"\n",
    "brow.visit(mars_tweet)\n",
    "time.sleep(3)\n",
    "mars_wtml=brow.html\n",
    "weatherS= BeautifulSoup(mars_wtml, 'html.parser')\n",
    "    # mars_weather= weatherS.find_all('div', attrs={\"data-testid\":\"tweet\"})\n",
    "\n",
    "for el in weatherS.find_all('div', attrs={\"data-testid\":\"tweet\"}):\n",
    "    if (\"InSight\" in el.get_text()):\n",
    "        weatherT=el.get_text()\n",
    "        print (weatherT)\n",
    "        break\n",
    "        # print (el.get_text())"
   ]
  },
  {
   "cell_type": "code",
   "execution_count": 15,
   "metadata": {},
   "outputs": [
    {
     "name": "stdout",
     "output_type": "stream",
     "text": [
      "LA URL NO ES ESTABLE Y NO PERMITE LA CORRECTA EXTRACCION DE DATOS\n"
     ]
    }
   ],
   "source": [
    "#LA URL NO ES ESTABLE Y NO PERMITE LA CORRECTA EXTRACCION DE DATOS\n",
    "mars_emisphere=\"https://astrogeology.usgs.gov/search/results?q=hemisphere+enhanced&k1=target&v1=Mars\"\n",
    "brow.visit(mars_emisphere)\n",
    "print(\"LA URL NO ES ESTABLE Y NO PERMITE LA CORRECTA EXTRACCION DE DATOS\")"
   ]
  },
  {
   "cell_type": "code",
   "execution_count": null,
   "metadata": {},
   "outputs": [],
   "source": []
  }
 ],
 "metadata": {
  "kernelspec": {
   "display_name": "Python 3.7.4 64-bit ('base': conda)",
   "language": "python",
   "name": "python37464bitbaseconda2a6a655c390a4373bca87dc0c2276cce"
  },
  "language_info": {
   "codemirror_mode": {
    "name": "ipython",
    "version": 3
   },
   "file_extension": ".py",
   "mimetype": "text/x-python",
   "name": "python",
   "nbconvert_exporter": "python",
   "pygments_lexer": "ipython3",
   "version": "3.7.4"
  }
 },
 "nbformat": 4,
 "nbformat_minor": 2
}
